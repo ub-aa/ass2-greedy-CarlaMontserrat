{
 "cells": [
  {
   "cell_type": "markdown",
   "metadata": {},
   "source": [
    "<div style=\"padding:30px; color: white; background-color: #0071CD\">\n",
    "<center>\n",
    "<img src=\"img/logoub.jpeg\"></img>\n",
    "<center>\n",
    "<p>\n",
    "<h1>Algorísmica Avançada</h1>\n",
    "<h2>Práctica 2: Greedy</h2>\n",
    "</center>\n",
    "</p>\n",
    "</div>"
   ]
  },
  {
   "cell_type": "markdown",
   "metadata": {},
   "source": [
    "<div class=\"alert alert-success\" style=\"width:90%; margin:0 auto;\">\n",
    "  <h2><p>Minimum Spanning Tree</p></h2>\n",
    "  <p>\n",
    "Dado un grafo conexo y no dirigido, un minimum spanning tree de ese grafo es un subgrafo que tiene que ser un árbol y contener todos los vértices del grafo inicial. Cada arista tiene asignado un peso proporcional entre ellos, que es un número representativo de algún objeto, distancia, etc.; y se usa para asignar un peso total al MST computando la suma de todos los pesos de las aristas del árbol en cuestión. Un MST o un árbol expandido mínimo es un árbol recubridor que pesa menos o igual que otros árboles recubridores. Todo grafo tiene un bosque recubridor mínimo.\n",
    "  </p>\n",
    "  <p>\n",
    "      En esta práctica se plantea la implementación del algoritmo de Prim para encontrar el arbol de expansión mínima en el metro de Londres.\n",
    "  </p>\n",
    "  </div>\n"
   ]
  },
  {
   "cell_type": "markdown",
   "metadata": {},
   "source": [
    "<div class=\"alert alert-danger\" style=\"width:80%; margin:0 auto; padding\">\n",
    "<center><p><h3> Código </h3></p> </center>\n",
    "<p>\n",
    "<h3>INPUT</h3>\n",
    "<ul>\n",
    "<li>__G__: El grafo del metro de londres.</li>\n",
    "</ul>\n",
    "<br>\n",
    "<h3>OUTPUT</h3>\n",
    "\n",
    "<ul>\n",
    "<li>\n",
    "__tree__: Objeto de tipo `Graph` que contenga el MST del grafo inical.\n",
    "</li>\n",
    "<ul>\n",
    "\n",
    "</p>\n",
    "</div>\n"
   ]
  },
  {
   "cell_type": "code",
   "execution_count": 9,
   "metadata": {
    "collapsed": true
   },
   "outputs": [],
   "source": [
    "from llibreria import Graph\n",
    "from util import get_subway_graph, draw_subway_graph\n",
    "import copy\n",
    "\n",
    "G, lines = get_subway_graph('csv', Graph)"
   ]
  },
  {
   "cell_type": "code",
   "execution_count": 29,
   "metadata": {},
   "outputs": [],
   "source": [
    "import llibreria\n",
    "import random\n",
    "\n",
    "def prim(G, origin=None):\n",
    "    \"\"\" Implementación del algoritmo de Prim para obtener el MST de un grafo cualquiera.\n",
    "    Args:\n",
    "        G (Graph): El grafo de tipo Graph sobre el que queremos buscar los componentes conexos\n",
    "    Returns:\n",
    "        tree: El grafo de tipo Graph que contiene el arbol de expansión mínima.\n",
    "    \"\"\"\n",
    "    #Primer creem un arbre buit\n",
    "    tree = Graph()\n",
    "    #Creem una llista i diccionaris als quals donarem ús més endevant\n",
    "    nodes = {}\n",
    "    visited = []\n",
    "    pares = {}\n",
    "    \n",
    "    #Dins d'aquest arbre afegim un vèrtex que triarem aleatòriament del graf inicial si no l'especifiquen\n",
    "    if origin is None:\n",
    "        origin = random.choice(G.nodes())\n",
    "        attr_dict = G.node[origin]\n",
    "        tree.add_node(origin, attr_dict)\n",
    "        \n",
    "    else:\n",
    "        attr_dict = G.node[origin]\n",
    "        tree.add_node(origin, attr_dict)\n",
    "        \n",
    "    nodes[origin] = 0\n",
    "    \n",
    "    while nodes:\n",
    "        #Per cada element de la llista d'items(llista de tuples amb klau, valor), agafem la clau amb valor mínim\n",
    "        origin = min(nodes.items(), key = lambda x:x[1])[0]\n",
    "        #Borrem el node de la llista d'arestes i l'afegim a visitats\n",
    "        del nodes[origin]\n",
    "        visited.append(origin)\n",
    "        \n",
    "        #Mirem els veins del nostre node origen\n",
    "        connected = G.neighbors(origin)\n",
    "        \n",
    "        #Mirem els costos per arribar del node origen \n",
    "        for x in connected:\n",
    "            if x not in visited:   \n",
    "                #Ho afegim també a una llista on hi ha les arestes visitades fins ara\n",
    "                if x not in nodes or nodes[x] > G.edge[origin][x]['distance']:\n",
    "                    nodes[x] = G.edge[origin][x]['distance']\n",
    "                    pares[x] = origin\n",
    "    \n",
    "    #Afegim tots els nodes i les arestes a l'arbre\n",
    "    for x, y in pares.items():\n",
    "        tree.add_node(x, G.node[x])\n",
    "        tree.add_node(y, G.node[y])\n",
    "        tree.add_edge(x,y,G.edge[x][y])\n",
    "    \n",
    "    return tree"
   ]
  },
  {
   "cell_type": "code",
   "execution_count": 30,
   "metadata": {},
   "outputs": [
    {
     "data": {
      "text/plain": [
       "<llibreria.Graph at 0x1bf2f452da0>"
      ]
     },
     "execution_count": 30,
     "metadata": {},
     "output_type": "execute_result"
    }
   ],
   "source": [
    "prim(G)"
   ]
  },
  {
   "cell_type": "code",
   "execution_count": 31,
   "metadata": {},
   "outputs": [
    {
     "data": {
      "image/png": "[encoded data removed]",
      "text/plain": [
       "<matplotlib.figure.Figure at 0x1bf2f4b7358>"
      ]
     },
     "metadata": {},
     "output_type": "display_data"
    }
   ],
   "source": [
    "draw_subway_graph(prim(G), lines)"
   ]
  },
  {
   "cell_type": "markdown",
   "metadata": {},
   "source": [
    "<div class=\"alert alert-danger\" style=\"width:80%; margin:0 auto; padding\">\n",
    "<center><p><h3> Tests </h3></p> </center>\n",
    "<p>\n",
    "Realiza los tests pertinentes en las celdas dispuestas a continuación.\n",
    "</p>\n",
    "</div>\n"
   ]
  },
  {
   "cell_type": "code",
   "execution_count": null,
   "metadata": {
    "collapsed": true
   },
   "outputs": [],
   "source": []
  },
  {
   "cell_type": "markdown",
   "metadata": {},
   "source": [
    "<div class=\"alert alert-info\">\n",
    "<center>\n",
    "  <h1>Comentarios</h1>\n",
    "  <p>\n",
    "  En esta sección tenéis que comentar brevemente (1) __cómo habéis realizado la implementación del algoritmo__ así como un (2) __análisis detallado de la complejidad__ del mismo.\n",
    "  </p>\n",
    "</center>\n",
    "</div>"
   ]
  },
  {
   "cell_type": "markdown",
   "metadata": {},
   "source": [
    "### Realització de l'algorisme:\n",
    "En primer lloc he escollit el node inicial en funcio de si venia donar per paràmetre o no.\n",
    "Un cop fet això, he realitzat el bucle principal que el que fa és el següent:\n",
    "\n",
    "- Mentre la llista de nodes no visitats és plena, agafa el que podem arribar-hi amb pes mínim.\n",
    "- Des d'aquest node, mira els possibles nodes als quals es pot arribar, i escull el de pes mínim, si aquest ja havia estat escollit abans però actualment el pes és inferior, l'actualitza.També guarda en un diccionara el node al que anem i del que venim.\n",
    "    \n",
    "Quan surt del bucle principal, afaga el diccionari on tenim guardats els nodes que es relacionen entre si i els afageix al nou graf, que ara serà un arbre, juntament amb l'aresta que els relaciona\n",
    "   \n",
    "### Cost computacional de l'algorisme:\n",
    "Si analitzem el codi realitzat, el cost que ens quedaria seria el següent:\n",
    "$O((|V|·|N|)·|V|)$\n",
    "    \n",
    "On:\n",
    "- V = nodes\n",
    "- N = veins\n",
    "\n",
    "Seria aquest ja que el bucele principal recorre tots els nodes(|V|) i de tots ells en vissita tots els seus veïns (|N|) i a més a més se l'hi ha d'afegir el cost de buscar el mínim en la llista de nodes, que en el pitjor cas seriem tots (|V|).\n",
    "\n",
    "Com que el concepte veïns és una mica abstracte ja que mai sabem la quantitat exacte de veïns, agafem la relació següent:\n",
    "    |E| = |V| · |N|\n",
    "    \n",
    "Aquesta ens diu que la cardinalitat d'arestes normalment és igual a la cardinalitat de nodes per la cardinalitat de veïns.\n",
    "\n",
    "Aleshores, partint d'aquí i per tenir una complexitat més tangible quedaria el següent:\n",
    "    $O((|V|+|E|)·|V|)$\n",
    "    \n",
    "    \n",
    "###### Per tant la complexitat és: $O((|V|+|E|)·|V|)$\n"
   ]
  },
  {
   "cell_type": "markdown",
   "metadata": {},
   "source": [
    "<div class=\"alert alert-info\">\n",
    "<center>\n",
    "  <h1>Entrega</h1>\n",
    "  <p>\n",
    "  La entrega de esta práctica se realizará a través del __Campus Virtual__. En ella tenéis que incluir únicamente el fichero `.ipynb` sin comprimir con el código debidamente comentado y los comentarios que se os proponen en la anterior sección.\n",
    "  </p>\n",
    "  <p>\n",
    "  El nombre del archivo ha de seguir el formato:\n",
    "  </p><p style=\"text-align:center\">\n",
    "  ```\n",
    "  <apellidos>_<nombre>_EP1.ipynb\n",
    "  ```\n",
    "  </p>\n",
    "</center>\n",
    "</div>"
   ]
  }
 ],
 "metadata": {
  "kernelspec": {
   "display_name": "Python 3",
   "language": "python",
   "name": "python3"
  },
  "language_info": {
   "codemirror_mode": {
    "name": "ipython",
    "version": 3
   },
   "file_extension": ".py",
   "mimetype": "text/x-python",
   "name": "python",
   "nbconvert_exporter": "python",
   "pygments_lexer": "ipython3",
   "version": "3.6.1"
  }
 },
 "nbformat": 4,
 "nbformat_minor": 2
}
